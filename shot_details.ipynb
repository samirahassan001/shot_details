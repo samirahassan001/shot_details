{
 "cells": [
  {
   "cell_type": "code",
   "execution_count": 1,
   "source": [
    "from shotgun_api3 import Shotgun\r\n",
    "import pandas as pd\r\n",
    "\r\n",
    "sg = Shotgun(r'https://windsunsky.shotgunstudio.com/',r'asset_library',r'xxfwr@dajolsinoowf6szzsyJ')"
   ],
   "outputs": [],
   "metadata": {}
  },
  {
   "cell_type": "code",
   "execution_count": 2,
   "source": [
    "df = pd.read_excel (r'C:\\Users\\shassan.SBNORTH\\Documents\\shot_webhook\\PSC1_104_EDL TEST.xlsx')\r\n",
    "print(df)"
   ],
   "outputs": [
    {
     "output_type": "stream",
     "name": "stdout",
     "text": [
      "        EDL Document  Edit Event Source Track Transition  Trans Dur  \\\n",
      "0  PSC1_104_EDL TEST           1     AX     V          C        NaN   \n",
      "1  PSC1_104_EDL TEST           2     AX     V          C        NaN   \n",
      "2  PSC1_104_EDL TEST           3     AX     V          C        NaN   \n",
      "3  PSC1_104_EDL TEST           4     AX     V          C        NaN   \n",
      "4  PSC1_104_EDL TEST           5     AX     V          C        NaN   \n",
      "5  PSC1_104_EDL TEST           6     AX     V          C        NaN   \n",
      "\n",
      "  Source TC In Source TC Out Source Duration Program TC In Program TC Out  \\\n",
      "0  01:00:00:00   01:00:03:08     00:00:03:08   01:00:00:01    01:00:03:09   \n",
      "1  01:00:00:00   01:00:01:18     00:00:01:18   01:00:03:09    01:00:05:03   \n",
      "2  01:00:00:00   01:00:01:20     00:00:01:20   01:00:05:03    01:00:06:23   \n",
      "3  01:00:00:00   01:00:05:19     00:00:05:19   01:00:06:23    01:00:12:18   \n",
      "4  01:00:00:00   01:00:02:22     00:00:02:22   01:00:12:18    01:00:15:16   \n",
      "5  01:00:00:00   01:00:02:14     00:00:02:14   01:00:15:16    01:00:18:06   \n",
      "\n",
      "  Program Duration                           Comments  \n",
      "0      00:00:03:08  * FROM CLIP NAME: PSC1_104_SC_001  \n",
      "1      00:00:01:18  * FROM CLIP NAME: PSC1_104_SC_002  \n",
      "2      00:00:01:20  * FROM CLIP NAME: PSC1_104_SC_003  \n",
      "3      00:00:05:19  * FROM CLIP NAME: PSC1_104_SC_004  \n",
      "4      00:00:02:22  * FROM CLIP NAME: PSC1_104_SC_005  \n",
      "5      00:00:02:14  * FROM CLIP NAME: PSC1_104_SC_006  \n"
     ]
    }
   ],
   "metadata": {}
  },
  {
   "cell_type": "code",
   "execution_count": 3,
   "source": [
    "\r\n",
    "df = df.drop(['Edit Event','Source','Track','Transition', 'Trans Dur', 'Source TC In' ,'Source TC Out','Source Duration'], axis=1)\r\n",
    "mydf = pd.DataFrame(data= df, index = range(len(df)))\r\n",
    "print(mydf)"
   ],
   "outputs": [
    {
     "output_type": "stream",
     "name": "stdout",
     "text": [
      "        EDL Document Program TC In Program TC Out Program Duration  \\\n",
      "0  PSC1_104_EDL TEST   01:00:00:01    01:00:03:09      00:00:03:08   \n",
      "1  PSC1_104_EDL TEST   01:00:03:09    01:00:05:03      00:00:01:18   \n",
      "2  PSC1_104_EDL TEST   01:00:05:03    01:00:06:23      00:00:01:20   \n",
      "3  PSC1_104_EDL TEST   01:00:06:23    01:00:12:18      00:00:05:19   \n",
      "4  PSC1_104_EDL TEST   01:00:12:18    01:00:15:16      00:00:02:22   \n",
      "5  PSC1_104_EDL TEST   01:00:15:16    01:00:18:06      00:00:02:14   \n",
      "\n",
      "                            Comments  \n",
      "0  * FROM CLIP NAME: PSC1_104_SC_001  \n",
      "1  * FROM CLIP NAME: PSC1_104_SC_002  \n",
      "2  * FROM CLIP NAME: PSC1_104_SC_003  \n",
      "3  * FROM CLIP NAME: PSC1_104_SC_004  \n",
      "4  * FROM CLIP NAME: PSC1_104_SC_005  \n",
      "5  * FROM CLIP NAME: PSC1_104_SC_006  \n"
     ]
    }
   ],
   "metadata": {}
  },
  {
   "cell_type": "code",
   "execution_count": 4,
   "source": [
    "new = mydf['Comments'].str.split(\": \", n=1, expand = True)\r\n",
    "mydf['name'] = new[1]\r\n",
    "mydf.drop(columns=['Comments'], inplace=True)\r\n",
    "mydf"
   ],
   "outputs": [
    {
     "output_type": "execute_result",
     "data": {
      "text/plain": [
       "        EDL Document Program TC In Program TC Out Program Duration  \\\n",
       "0  PSC1_104_EDL TEST   01:00:00:01    01:00:03:09      00:00:03:08   \n",
       "1  PSC1_104_EDL TEST   01:00:03:09    01:00:05:03      00:00:01:18   \n",
       "2  PSC1_104_EDL TEST   01:00:05:03    01:00:06:23      00:00:01:20   \n",
       "3  PSC1_104_EDL TEST   01:00:06:23    01:00:12:18      00:00:05:19   \n",
       "4  PSC1_104_EDL TEST   01:00:12:18    01:00:15:16      00:00:02:22   \n",
       "5  PSC1_104_EDL TEST   01:00:15:16    01:00:18:06      00:00:02:14   \n",
       "\n",
       "              name  \n",
       "0  PSC1_104_SC_001  \n",
       "1  PSC1_104_SC_002  \n",
       "2  PSC1_104_SC_003  \n",
       "3  PSC1_104_SC_004  \n",
       "4  PSC1_104_SC_005  \n",
       "5  PSC1_104_SC_006  "
      ],
      "text/html": [
       "<div>\n",
       "<style scoped>\n",
       "    .dataframe tbody tr th:only-of-type {\n",
       "        vertical-align: middle;\n",
       "    }\n",
       "\n",
       "    .dataframe tbody tr th {\n",
       "        vertical-align: top;\n",
       "    }\n",
       "\n",
       "    .dataframe thead th {\n",
       "        text-align: right;\n",
       "    }\n",
       "</style>\n",
       "<table border=\"1\" class=\"dataframe\">\n",
       "  <thead>\n",
       "    <tr style=\"text-align: right;\">\n",
       "      <th></th>\n",
       "      <th>EDL Document</th>\n",
       "      <th>Program TC In</th>\n",
       "      <th>Program TC Out</th>\n",
       "      <th>Program Duration</th>\n",
       "      <th>name</th>\n",
       "    </tr>\n",
       "  </thead>\n",
       "  <tbody>\n",
       "    <tr>\n",
       "      <th>0</th>\n",
       "      <td>PSC1_104_EDL TEST</td>\n",
       "      <td>01:00:00:01</td>\n",
       "      <td>01:00:03:09</td>\n",
       "      <td>00:00:03:08</td>\n",
       "      <td>PSC1_104_SC_001</td>\n",
       "    </tr>\n",
       "    <tr>\n",
       "      <th>1</th>\n",
       "      <td>PSC1_104_EDL TEST</td>\n",
       "      <td>01:00:03:09</td>\n",
       "      <td>01:00:05:03</td>\n",
       "      <td>00:00:01:18</td>\n",
       "      <td>PSC1_104_SC_002</td>\n",
       "    </tr>\n",
       "    <tr>\n",
       "      <th>2</th>\n",
       "      <td>PSC1_104_EDL TEST</td>\n",
       "      <td>01:00:05:03</td>\n",
       "      <td>01:00:06:23</td>\n",
       "      <td>00:00:01:20</td>\n",
       "      <td>PSC1_104_SC_003</td>\n",
       "    </tr>\n",
       "    <tr>\n",
       "      <th>3</th>\n",
       "      <td>PSC1_104_EDL TEST</td>\n",
       "      <td>01:00:06:23</td>\n",
       "      <td>01:00:12:18</td>\n",
       "      <td>00:00:05:19</td>\n",
       "      <td>PSC1_104_SC_004</td>\n",
       "    </tr>\n",
       "    <tr>\n",
       "      <th>4</th>\n",
       "      <td>PSC1_104_EDL TEST</td>\n",
       "      <td>01:00:12:18</td>\n",
       "      <td>01:00:15:16</td>\n",
       "      <td>00:00:02:22</td>\n",
       "      <td>PSC1_104_SC_005</td>\n",
       "    </tr>\n",
       "    <tr>\n",
       "      <th>5</th>\n",
       "      <td>PSC1_104_EDL TEST</td>\n",
       "      <td>01:00:15:16</td>\n",
       "      <td>01:00:18:06</td>\n",
       "      <td>00:00:02:14</td>\n",
       "      <td>PSC1_104_SC_006</td>\n",
       "    </tr>\n",
       "  </tbody>\n",
       "</table>\n",
       "</div>"
      ]
     },
     "metadata": {},
     "execution_count": 4
    }
   ],
   "metadata": {}
  },
  {
   "cell_type": "code",
   "execution_count": 5,
   "source": [
    "mydf.rename(columns={'Program TC In':'start', 'Program Duration':'duration', 'Program TC Out':'end'}, inplace=True)\r\n",
    "for index, row in mydf.iterrows():\r\n",
    "    print(row.to_dict())\r\n",
    "     "
   ],
   "outputs": [
    {
     "output_type": "stream",
     "name": "stdout",
     "text": [
      "{'EDL Document': 'PSC1_104_EDL TEST', 'start': '01:00:00:01', 'end': '01:00:03:09', 'duration': '00:00:03:08', 'name': 'PSC1_104_SC_001'}\n",
      "{'EDL Document': 'PSC1_104_EDL TEST', 'start': '01:00:03:09', 'end': '01:00:05:03', 'duration': '00:00:01:18', 'name': 'PSC1_104_SC_002'}\n",
      "{'EDL Document': 'PSC1_104_EDL TEST', 'start': '01:00:05:03', 'end': '01:00:06:23', 'duration': '00:00:01:20', 'name': 'PSC1_104_SC_003'}\n",
      "{'EDL Document': 'PSC1_104_EDL TEST', 'start': '01:00:06:23', 'end': '01:00:12:18', 'duration': '00:00:05:19', 'name': 'PSC1_104_SC_004'}\n",
      "{'EDL Document': 'PSC1_104_EDL TEST', 'start': '01:00:12:18', 'end': '01:00:15:16', 'duration': '00:00:02:22', 'name': 'PSC1_104_SC_005'}\n",
      "{'EDL Document': 'PSC1_104_EDL TEST', 'start': '01:00:15:16', 'end': '01:00:18:06', 'duration': '00:00:02:14', 'name': 'PSC1_104_SC_006'}\n"
     ]
    }
   ],
   "metadata": {}
  }
 ],
 "metadata": {
  "interpreter": {
   "hash": "4ab151f75bc61750fea729bba84a69f761e647e4feff15a2ac3ccf282952a7cc"
  },
  "kernelspec": {
   "name": "python3",
   "display_name": "Python 3.9.5 64-bit"
  },
  "language_info": {
   "codemirror_mode": {
    "name": "ipython",
    "version": 3
   },
   "file_extension": ".py",
   "mimetype": "text/x-python",
   "name": "python",
   "nbconvert_exporter": "python",
   "pygments_lexer": "ipython3",
   "version": "3.9.5"
  },
  "orig_nbformat": 4
 },
 "nbformat": 4,
 "nbformat_minor": 2
}